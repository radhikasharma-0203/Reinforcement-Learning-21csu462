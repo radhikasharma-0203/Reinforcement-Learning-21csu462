{
  "cells": [
    {
      "cell_type": "markdown",
      "metadata": {
        "id": "view-in-github",
        "colab_type": "text"
      },
      "source": [
        "<a href=\"https://colab.research.google.com/github/radhikasharma-0203/Reinforcement-Learning-21csu462/blob/main/Experiment_4_Thompson_Sampling.ipynb\" target=\"_parent\"><img src=\"https://colab.research.google.com/assets/colab-badge.svg\" alt=\"Open In Colab\"/></a>"
      ]
    },
    {
      "cell_type": "code",
      "execution_count": null,
      "id": "a0eb525e",
      "metadata": {
        "id": "a0eb525e",
        "outputId": "df19d4e7-8a1f-4204-cc91-de5cbe347974"
      },
      "outputs": [
        {
          "name": "stdout",
          "output_type": "stream",
          "text": [
            "Thompson Sampling Total Reward: 1366.6131636564187\n"
          ]
        },
        {
          "data": {
            "image/png": "[encoded data removed]",
            "text/plain": [
              "<Figure size 432x288 with 1 Axes>"
            ]
          },
          "metadata": {
            "needs_background": "light"
          },
          "output_type": "display_data"
        }
      ],
      "source": [
        "import numpy as np\n",
        "import matplotlib.pyplot as plt\n",
        "\n",
        "def thompson_sampling_solver(true_means, num_steps):\n",
        "    num_bandits = len(true_means)\n",
        "    alpha = np.ones(num_bandits)\n",
        "    beta = np.ones(num_bandits)\n",
        "    rewards = np.zeros(num_steps)\n",
        "    total_reward = 0\n",
        "\n",
        "    for step in range(num_steps):\n",
        "        sampled_means = np.random.beta(alpha, beta)\n",
        "        arm_to_pull = np.argmax(sampled_means)\n",
        "        reward = np.random.normal(true_means[arm_to_pull], 1)\n",
        "        total_reward += reward\n",
        "\n",
        "        if reward > 0:\n",
        "            alpha[arm_to_pull] += 1\n",
        "        else:\n",
        "            beta[arm_to_pull] += 1\n",
        "\n",
        "        rewards[step] = total_reward / (step + 1)\n",
        "\n",
        "    return rewards, total_reward\n",
        "def main():\n",
        "    np.random.seed(42)\n",
        "\n",
        "    num_bandits = 5\n",
        "    num_steps = 1000\n",
        "\n",
        "    true_means = np.random.normal(0, 1, num_bandits)\n",
        "\n",
        "    thompson_rewards, thompson_total_reward = thompson_sampling_solver(true_means, num_steps)\n",
        "\n",
        "    print(\"Thompson Sampling Total Reward:\", thompson_total_reward)\n",
        "\n",
        "    plt.plot(thompson_rewards, label='Thompson Sampling')\n",
        "    plt.xlabel('Steps')\n",
        "    plt.ylabel('Average Reward')\n",
        "    plt.legend()\n",
        "    plt.show()\n",
        "\n",
        "if __name__ == \"__main__\":\n",
        "    main()\n"
      ]
    },
    {
      "cell_type": "code",
      "execution_count": null,
      "id": "7b5e4ecd",
      "metadata": {
        "id": "7b5e4ecd"
      },
      "outputs": [],
      "source": []
    }
  ],
  "metadata": {
    "kernelspec": {
      "display_name": "Python 3 (ipykernel)",
      "language": "python",
      "name": "python3"
    },
    "language_info": {
      "codemirror_mode": {
        "name": "ipython",
        "version": 3
      },
      "file_extension": ".py",
      "mimetype": "text/x-python",
      "name": "python",
      "nbconvert_exporter": "python",
      "pygments_lexer": "ipython3",
      "version": "3.9.12"
    },
    "colab": {
      "provenance": [],
      "include_colab_link": true
    }
  },
  "nbformat": 4,
  "nbformat_minor": 5
}