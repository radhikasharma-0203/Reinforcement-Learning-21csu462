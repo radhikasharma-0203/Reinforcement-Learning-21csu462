{
  "cells": [
    {
      "cell_type": "markdown",
      "metadata": {
        "id": "view-in-github",
        "colab_type": "text"
      },
      "source": [
        "<a href=\"https://colab.research.google.com/github/radhikasharma-0203/Reinforcement-Learning-21csu462/blob/main/Experiment_6_MDP.ipynb\" target=\"_parent\"><img src=\"https://colab.research.google.com/assets/colab-badge.svg\" alt=\"Open In Colab\"/></a>"
      ]
    },
    {
      "cell_type": "code",
      "execution_count": null,
      "id": "ca61861d",
      "metadata": {
        "id": "ca61861d"
      },
      "outputs": [],
      "source": [
        "import numpy as np\n",
        "\n",
        "\n",
        "num_states = 3\n",
        "num_actions = 2\n",
        "discount_factor = 0.9\n",
        "transition_probs = np.array([\n",
        "    [[0.7, 0.3, 0.0], [0.1, 0.8, 0.1]],\n",
        "    [[0.0, 0.2, 0.8], [0.4, 0.4, 0.2]],\n",
        "    [[0.4, 0.6, 0.0], [0.0, 0.5, 0.5]]\n",
        "])\n",
        "\n",
        "\n",
        "rewards = np.array([\n",
        "    [-1, 1],\n",
        "    [2, -1],\n",
        "    [0, 1]\n",
        "])\n",
        "policy = np.ones((num_states, num_actions)) / num_actions\n",
        "\n",
        "\n",
        "def policy_evaluation(policy, transition_probs, rewards, discount_factor, num_iterations=100):\n",
        "    value_function = np.zeros(num_states)\n",
        "\n",
        "    for _ in range(num_iterations):\n",
        "        for state in range(num_states):\n",
        "            value_function[state] = sum(\n",
        "                policy[state, action] * (rewards[state, action] +\n",
        "                                         discount_factor * sum(value_function[next_state] * transition_probs[state, action, next_state]\n",
        "                                                              for next_state in range(num_states)))\n",
        "                for action in range(num_actions)\n",
        "            )\n",
        "\n",
        "    return value_function"
      ]
    },
    {
      "cell_type": "code",
      "execution_count": null,
      "id": "2593ac15",
      "metadata": {
        "id": "2593ac15",
        "outputId": "8e62f11e-abdd-4af0-836f-f914e741d2e3"
      },
      "outputs": [
        {
          "name": "stdout",
          "output_type": "stream",
          "text": [
            "Converged after 1 iterations.\n",
            "Optimal Policy:\n",
            "[[0. 1.]\n",
            " [1. 0.]\n",
            " [0. 1.]]\n",
            "Optimal Value Function:\n",
            "[13.77692761 14.33070472 13.54330336]\n"
          ]
        }
      ],
      "source": [
        "def policy_improvement(value_function, transition_probs, rewards, discount_factor):\n",
        "    new_policy = np.zeros_like(policy)\n",
        "\n",
        "    for state in range(num_states):\n",
        "        q_values = np.zeros(num_actions)\n",
        "\n",
        "        for action in range(num_actions):\n",
        "            q_values[action] = rewards[state, action] + discount_factor * sum(value_function[next_state] * transition_probs[state, action, next_state]\n",
        "                                                                             for next_state in range(num_states))\n",
        "\n",
        "        best_action = np.argmax(q_values)\n",
        "        new_policy[state, best_action] = 1.0\n",
        "\n",
        "    return new_policy\n",
        "\n",
        "\n",
        "for i in range(10):\n",
        "    value_function = policy_evaluation(policy, transition_probs, rewards, discount_factor)\n",
        "    new_policy = policy_improvement(value_function, transition_probs, rewards, discount_factor)\n",
        "\n",
        "    if np.array_equal(policy, new_policy):\n",
        "        print(f\"Converged after {i} iterations.\")\n",
        "        break\n",
        "\n",
        "    policy = new_policy\n",
        "\n",
        "print(\"Optimal Policy:\")\n",
        "print(policy)\n",
        "print(\"Optimal Value Function:\")\n",
        "print(value_function)\n"
      ]
    },
    {
      "cell_type": "code",
      "execution_count": null,
      "id": "eb13ace8",
      "metadata": {
        "id": "eb13ace8"
      },
      "outputs": [],
      "source": []
    }
  ],
  "metadata": {
    "kernelspec": {
      "display_name": "Python 3 (ipykernel)",
      "language": "python",
      "name": "python3"
    },
    "language_info": {
      "codemirror_mode": {
        "name": "ipython",
        "version": 3
      },
      "file_extension": ".py",
      "mimetype": "text/x-python",
      "name": "python",
      "nbconvert_exporter": "python",
      "pygments_lexer": "ipython3",
      "version": "3.9.12"
    },
    "colab": {
      "provenance": [],
      "include_colab_link": true
    }
  },
  "nbformat": 4,
  "nbformat_minor": 5
}
