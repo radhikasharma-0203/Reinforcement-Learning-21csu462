{
  "cells": [
    {
      "cell_type": "markdown",
      "metadata": {
        "id": "view-in-github",
        "colab_type": "text"
      },
      "source": [
        "<a href=\"https://colab.research.google.com/github/radhikasharma-0203/Reinforcement-Learning-21csu462/blob/main/Experiment_7_Policy_Iteration.ipynb\" target=\"_parent\"><img src=\"https://colab.research.google.com/assets/colab-badge.svg\" alt=\"Open In Colab\"/></a>"
      ]
    },
    {
      "cell_type": "code",
      "execution_count": null,
      "id": "927d53c0",
      "metadata": {
        "id": "927d53c0",
        "outputId": "c8282542-c847-41ea-d64c-fd709b9297c5"
      },
      "outputs": [
        {
          "name": "stdout",
          "output_type": "stream",
          "text": [
            "Iteration 0 Policy:\n",
            "T\t2\t3\t3\t\n",
            "1\t1\t2\t3\t\n",
            "3\t3\t3\t1\t\n",
            "0\t1\t2\tT\t\n",
            "\n",
            "\n",
            "Iteration 1 Policy:\n",
            "T\t2\t2\t0\t\n",
            "0\t0\t1\t1\t\n",
            "3\t3\t3\t1\t\n",
            "0\t0\t3\tT\t\n",
            "\n",
            "\n",
            "Iteration 2 Policy:\n",
            "T\t2\t2\t1\t\n",
            "0\t0\t0\t1\t\n",
            "0\t0\t1\t1\t\n",
            "0\t3\t3\tT\t\n",
            "Optimal Policy:\n",
            "T\t2\t2\t1\t\n",
            "0\t0\t0\t1\t\n",
            "0\t0\t1\t1\t\n",
            "0\t3\t3\tT\t\n"
          ]
        }
      ],
      "source": [
        "import numpy as np\n",
        "\n",
        "\n",
        "num_rows = 4\n",
        "num_cols = 4\n",
        "num_states = num_rows * num_cols\n",
        "num_actions = 4\n",
        "gamma = 0.9\n",
        "\n",
        "\n",
        "# Create a dictionary to represent the grid with states as keys and actions as values\n",
        "grid = {(i, j): [0, 1, 2, 3] for i in range(num_rows) for j in range(num_cols)}\n",
        "terminal_states = [(0, 0), (3, 3)]\n",
        "rewards = {(i, j): -1 for i in range(num_rows) for j in range(num_cols)}\n",
        "for state in terminal_states:\n",
        "    rewards[state] = 0\n",
        "\n",
        "# Initialize a random policy\n",
        "policy = {state: np.random.choice(num_actions) for state in grid}\n",
        "\n",
        "# Define a function to perform policy evaluation\n",
        "def policy_evaluation(policy, num_states, num_actions, grid, rewards, gamma, epsilon=1e-6):\n",
        "    value_function = {state: 0 for state in grid}\n",
        "    while True:\n",
        "        delta = 0\n",
        "        for state in grid:\n",
        "            v = value_function[state]\n",
        "            action = policy[state]\n",
        "            next_state = get_next_state(state, action, num_rows, num_cols)\n",
        "            reward = rewards[state]\n",
        "            value_function[state] = reward + gamma * value_function[next_state]\n",
        "            delta = max(delta, abs(v - value_function[state]))\n",
        "        if delta < epsilon:\n",
        "            break\n",
        "    return value_function\n",
        "# Define a function to get the next state given the current state and action\n",
        "def get_next_state(state, action, num_rows, num_cols):\n",
        "    i, j = state\n",
        "    if action == 0:  # Up\n",
        "        i = max(0, i - 1)\n",
        "    elif action == 1:  # Down\n",
        "        i = min(num_rows - 1, i + 1)\n",
        "    elif action == 2:  # Left\n",
        "        j = max(0, j - 1)\n",
        "    elif action == 3:  # Right\n",
        "        j = min(num_cols - 1, j + 1)\n",
        "    return (i, j)\n",
        "\n",
        "# Define a function to perform policy improvement\n",
        "def policy_improvement(value_function, num_states, num_actions, grid, rewards, gamma):\n",
        "    policy_stable = True\n",
        "    for state in grid:\n",
        "        old_action = policy[state]\n",
        "        action_values = np.zeros(num_actions)\n",
        "        for action in grid[state]:\n",
        "            next_state = get_next_state(state, action, num_rows, num_cols)\n",
        "            action_values[action] = rewards[state] + gamma * value_function[next_state]\n",
        "        policy[state] = np.argmax(action_values)\n",
        "        if old_action != policy[state]:\n",
        "            policy_stable = False\n",
        "    return policy, policy_stable\n",
        "# Main policy iteration loop\n",
        "iteration = 0\n",
        "while True:\n",
        "    print(f\"Iteration {iteration} Policy:\")\n",
        "    for i in range(num_rows):\n",
        "        for j in range(num_cols):\n",
        "            state = (i, j)\n",
        "            action = policy[state]\n",
        "            if state in terminal_states:\n",
        "                print(\"T\", end=\"\\t\")\n",
        "            else:\n",
        "                print(action, end=\"\\t\")\n",
        "        print()\n",
        "\n",
        "    value_function = policy_evaluation(policy, num_states, num_actions, grid, rewards, gamma)\n",
        "    new_policy, policy_stable = policy_improvement(value_function, num_states, num_actions, grid, rewards, gamma)\n",
        "    if policy_stable:\n",
        "        break\n",
        "    policy = new_policy\n",
        "    iteration += 1\n",
        "    print(\"\\n\")\n",
        "\n",
        "print(\"Optimal Policy:\")\n",
        "for i in range(num_rows):\n",
        "    for j in range(num_cols):\n",
        "        state = (i, j)\n",
        "        action = policy[state]\n",
        "        if state in terminal_states:\n",
        "            print(\"T\", end=\"\\t\")\n",
        "        else:\n",
        "            print(action, end=\"\\t\")\n",
        "    print()"
      ]
    },
    {
      "cell_type": "code",
      "execution_count": null,
      "id": "07916d77",
      "metadata": {
        "id": "07916d77"
      },
      "outputs": [],
      "source": []
    }
  ],
  "metadata": {
    "kernelspec": {
      "display_name": "Python 3 (ipykernel)",
      "language": "python",
      "name": "python3"
    },
    "language_info": {
      "codemirror_mode": {
        "name": "ipython",
        "version": 3
      },
      "file_extension": ".py",
      "mimetype": "text/x-python",
      "name": "python",
      "nbconvert_exporter": "python",
      "pygments_lexer": "ipython3",
      "version": "3.9.12"
    },
    "colab": {
      "provenance": [],
      "include_colab_link": true
    }
  },
  "nbformat": 4,
  "nbformat_minor": 5
}
