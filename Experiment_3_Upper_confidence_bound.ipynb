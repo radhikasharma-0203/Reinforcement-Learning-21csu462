{
  "cells": [
    {
      "cell_type": "markdown",
      "metadata": {
        "id": "view-in-github",
        "colab_type": "text"
      },
      "source": [
        "<a href=\"https://colab.research.google.com/github/radhikasharma-0203/Reinforcement-Learning-21csu462/blob/main/Experiment_3_Upper_confidence_bound.ipynb\" target=\"_parent\"><img src=\"https://colab.research.google.com/assets/colab-badge.svg\" alt=\"Open In Colab\"/></a>"
      ]
    },
    {
      "cell_type": "code",
      "execution_count": null,
      "id": "bae9063b",
      "metadata": {
        "id": "bae9063b"
      },
      "outputs": [],
      "source": [
        "import numpy as np\n",
        "import matplotlib.pyplot as plt\n",
        "\n",
        "def ucb_bandit_solver(true_means, num_steps):\n",
        "    num_bandits = len(true_means)\n",
        "    sample_counts = np.zeros(num_bandits)\n",
        "    sample_sums = np.zeros(num_bandits)\n",
        "    rewards = np.zeros(num_steps)\n",
        "    total_reward = 0\n",
        "    average_reward = np.zeros(num_bandits)\n",
        "\n",
        "    for step in range(num_steps):\n",
        "        arm_to_pull = np.argmax(average_reward + np.sqrt(2 * np.log(step + 1) / (sample_counts + 1e-10)))\n",
        "        reward = np.random.normal(true_means[arm_to_pull], 1)\n",
        "        total_reward += reward\n",
        "        sample_counts[arm_to_pull] += 1\n",
        "        sample_sums[arm_to_pull] += reward\n",
        "        average_reward[arm_to_pull] = sample_sums[arm_to_pull] / (sample_counts[arm_to_pull] + 1e-10)\n",
        "        rewards[step] = total_reward / (step + 1)\n",
        "\n",
        "    return rewards, total_reward\n",
        "\n",
        "def random_sampling_solver(true_means, num_steps):\n",
        "    num_bandits = len(true_means)\n",
        "    rewards = np.zeros(num_steps)\n",
        "    total_reward = 0\n",
        "\n",
        "    for step in range(num_steps):\n",
        "        arm_to_pull = np.random.randint(num_bandits)\n",
        "        reward = np.random.normal(true_means[arm_to_pull], 1)\n",
        "        total_reward += reward\n",
        "        rewards[step] = total_reward / (step + 1)\n",
        "\n",
        "    return rewards, total_reward\n"
      ]
    },
    {
      "cell_type": "code",
      "execution_count": null,
      "id": "beff773a",
      "metadata": {
        "id": "beff773a",
        "outputId": "5a3e03a6-698f-411c-d8e6-922b3b16d2a7"
      },
      "outputs": [
        {
          "name": "stdout",
          "output_type": "stream",
          "text": [
            "UCB Total Reward: 1499.6096963970883\n",
            "Random Sampling Total Reward: 470.9708371381798\n"
          ]
        },
        {
          "data": {
            "image/png": "[encoded data removed]",
            "text/plain": [
              "<Figure size 432x288 with 1 Axes>"
            ]
          },
          "metadata": {
            "needs_background": "light"
          },
          "output_type": "display_data"
        }
      ],
      "source": [
        "def main():\n",
        "    np.random.seed(42)\n",
        "\n",
        "    num_bandits = 5\n",
        "    num_steps = 1000\n",
        "\n",
        "    true_means = np.random.normal(0, 1, num_bandits)\n",
        "\n",
        "    ucb_rewards, ucb_total_reward = ucb_bandit_solver(true_means, num_steps)\n",
        "    random_rewards, random_total_reward = random_sampling_solver(true_means, num_steps)\n",
        "\n",
        "    print(\"UCB Total Reward:\", ucb_total_reward)\n",
        "    print(\"Random Sampling Total Reward:\", random_total_reward)\n",
        "\n",
        "    plt.plot(ucb_rewards, label='UCB')\n",
        "    plt.plot(random_rewards, label='Random Sampling')\n",
        "    plt.xlabel('Steps')\n",
        "    plt.ylabel('Average Reward')\n",
        "    plt.legend()\n",
        "    plt.show()\n",
        "\n",
        "if __name__ == \"__main__\":\n",
        "    main()"
      ]
    }
  ],
  "metadata": {
    "kernelspec": {
      "display_name": "Python 3 (ipykernel)",
      "language": "python",
      "name": "python3"
    },
    "language_info": {
      "codemirror_mode": {
        "name": "ipython",
        "version": 3
      },
      "file_extension": ".py",
      "mimetype": "text/x-python",
      "name": "python",
      "nbconvert_exporter": "python",
      "pygments_lexer": "ipython3",
      "version": "3.9.12"
    },
    "colab": {
      "provenance": [],
      "include_colab_link": true
    }
  },
  "nbformat": 4,
  "nbformat_minor": 5
}
