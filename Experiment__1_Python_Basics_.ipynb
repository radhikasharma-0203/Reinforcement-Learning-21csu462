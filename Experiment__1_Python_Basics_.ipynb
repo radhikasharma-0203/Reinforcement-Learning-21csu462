{
  "nbformat": 4,
  "nbformat_minor": 0,
  "metadata": {
    "colab": {
      "provenance": [],
      "authorship_tag": "ABX9TyOtaoO76baLKYGANwnID163",
      "include_colab_link": true
    },
    "kernelspec": {
      "name": "python3",
      "display_name": "Python 3"
    },
    "language_info": {
      "name": "python"
    }
  },
  "cells": [
    {
      "cell_type": "markdown",
      "metadata": {
        "id": "view-in-github",
        "colab_type": "text"
      },
      "source": [
        "<a href=\"https://colab.research.google.com/github/radhikasharma-0203/Reinforcement-Learning-21csu462/blob/main/Experiment__1_Pytho_Basics_.ipynb\" target=\"_parent\"><img src=\"https://colab.research.google.com/assets/colab-badge.svg\" alt=\"Open In Colab\"/></a>"
      ]
    },
    {
      "cell_type": "code",
      "execution_count": null,
      "metadata": {
        "colab": {
          "base_uri": "https://localhost:8080/"
        },
        "id": "eZ5sYy7K0k4E",
        "outputId": "73732a9a-9131-4dde-c730-042194bbae23"
      },
      "outputs": [
        {
          "output_type": "stream",
          "name": "stdout",
          "text": [
            "Python 3.10.12\n"
          ]
        }
      ],
      "source": [
        "!python --version"
      ]
    },
    {
      "cell_type": "code",
      "source": [
        "x=3\n",
        "print(type(x))\n",
        "print(x)\n",
        "print ( x**2)"
      ],
      "metadata": {
        "colab": {
          "base_uri": "https://localhost:8080/"
        },
        "id": "s7L7kE2y07pj",
        "outputId": "c04f41e5-70d1-4144-c9b0-1bca12efd51b"
      },
      "execution_count": null,
      "outputs": [
        {
          "output_type": "stream",
          "name": "stdout",
          "text": [
            "<class 'int'>\n",
            "3\n",
            "9\n"
          ]
        }
      ]
    },
    {
      "cell_type": "code",
      "source": [
        "t=True\n",
        "f=False\n",
        "print(type(t))\n",
        "print(t and f)\n",
        "print(t or f)"
      ],
      "metadata": {
        "colab": {
          "base_uri": "https://localhost:8080/"
        },
        "id": "C7OdWNOk1G3I",
        "outputId": "7cad1b30-4f89-474f-b2be-9e146bc9c271"
      },
      "execution_count": null,
      "outputs": [
        {
          "output_type": "stream",
          "name": "stdout",
          "text": [
            "<class 'bool'>\n",
            "False\n",
            "True\n"
          ]
        }
      ]
    },
    {
      "cell_type": "code",
      "source": [
        "x=5\n",
        "y=10\n",
        "z=x+y\n",
        "print(\"Addition of %s and %s is %s\"%(x,y,z))\n"
      ],
      "metadata": {
        "colab": {
          "base_uri": "https://localhost:8080/"
        },
        "id": "-BDvF3I61WnT",
        "outputId": "c2cb9348-20a6-4636-e4ad-38928249c82a"
      },
      "execution_count": null,
      "outputs": [
        {
          "output_type": "stream",
          "name": "stdout",
          "text": [
            "Addition of 5 and 10 is 15\n"
          ]
        }
      ]
    },
    {
      "cell_type": "code",
      "source": [
        "List = [2,4,6]\n",
        "print(List, List[2])\n",
        "print(List[-1])\n",
        "List[2] = 'Rad'\n",
        "print(List)\n",
        "List.append('hika')\n",
        "print(List)"
      ],
      "metadata": {
        "colab": {
          "base_uri": "https://localhost:8080/"
        },
        "id": "BbIsJnIt1vNb",
        "outputId": "2f337a19-8fd1-47d4-d3b2-11ac3efd060d"
      },
      "execution_count": null,
      "outputs": [
        {
          "output_type": "stream",
          "name": "stdout",
          "text": [
            "[2, 4, 6] 6\n",
            "6\n",
            "[2, 4, 'Rad']\n",
            "[2, 4, 'Rad', 'hika']\n"
          ]
        }
      ]
    },
    {
      "cell_type": "code",
      "source": [
        "nums=list(range(10))\n",
        "nums[2:4]=[8,9]\n",
        "print(nums)"
      ],
      "metadata": {
        "colab": {
          "base_uri": "https://localhost:8080/"
        },
        "id": "TgGuA85M3o_g",
        "outputId": "04ae701c-6bc7-4ecf-d00f-c942c1fc9e11"
      },
      "execution_count": null,
      "outputs": [
        {
          "output_type": "stream",
          "name": "stdout",
          "text": [
            "[0, 1, 8, 9, 4, 5, 6, 7, 8, 9]\n"
          ]
        }
      ]
    },
    {
      "cell_type": "code",
      "source": [
        "fruits = ['apple', 'banana', 'cherry']\n",
        "fruits.append(\"orange\")\n",
        "print(fruits)\n"
      ],
      "metadata": {
        "colab": {
          "base_uri": "https://localhost:8080/"
        },
        "id": "Gmh59zN13_ih",
        "outputId": "59e73bf4-ff37-48c4-a883-91c916fb6f1a"
      },
      "execution_count": null,
      "outputs": [
        {
          "output_type": "stream",
          "name": "stdout",
          "text": [
            "['apple', 'banana', 'cherry', 'orange']\n"
          ]
        }
      ]
    },
    {
      "cell_type": "code",
      "source": [
        "animals=['cat','dog','monkey']\n",
        "for animal in animals:\n",
        "  print(animal)"
      ],
      "metadata": {
        "colab": {
          "base_uri": "https://localhost:8080/"
        },
        "id": "DRY_aeOp4hrx",
        "outputId": "6334519b-b4b0-4a63-f9be-3892e91d2cc1"
      },
      "execution_count": null,
      "outputs": [
        {
          "output_type": "stream",
          "name": "stdout",
          "text": [
            "cat\n",
            "dog\n",
            "monkey\n"
          ]
        }
      ]
    },
    {
      "cell_type": "code",
      "source": [
        "animals=['cat','dog','monkey']\n",
        "for idx,animal in enumerate (animals):\n",
        "  print('#{}: {}'.format(idx + 1,animal))"
      ],
      "metadata": {
        "colab": {
          "base_uri": "https://localhost:8080/"
        },
        "id": "1x9kc6n94sZK",
        "outputId": "edb4f52a-d182-4788-a616-6a9f129c826e"
      },
      "execution_count": null,
      "outputs": [
        {
          "output_type": "stream",
          "name": "stdout",
          "text": [
            "#1: cat\n",
            "#2: dog\n",
            "#3: monkey\n"
          ]
        }
      ]
    },
    {
      "cell_type": "code",
      "source": [
        "nums=list(range(11))\n",
        "squares= []\n",
        "for x in nums:\n",
        "    squares.append(x**2)\n",
        "print(squares)"
      ],
      "metadata": {
        "colab": {
          "base_uri": "https://localhost:8080/"
        },
        "id": "ED--LUPi4yq8",
        "outputId": "1ef6760a-2f38-48e5-ef7b-4144e45aaf7e"
      },
      "execution_count": null,
      "outputs": [
        {
          "output_type": "stream",
          "name": "stdout",
          "text": [
            "[0, 1, 4, 9, 16, 25, 36, 49, 64, 81, 100]\n"
          ]
        }
      ]
    },
    {
      "cell_type": "code",
      "source": [
        "nums=list(range(11))\n",
        "even_squares=[x**2 for x in nums if x%2==0]\n",
        "print(even_squares)"
      ],
      "metadata": {
        "colab": {
          "base_uri": "https://localhost:8080/"
        },
        "id": "MG9rk4QJ41aU",
        "outputId": "b64f1f1b-c3cb-4053-ed0f-4f2ab7e52957"
      },
      "execution_count": null,
      "outputs": [
        {
          "output_type": "stream",
          "name": "stdout",
          "text": [
            "[0, 4, 16, 36, 64, 100]\n"
          ]
        }
      ]
    },
    {
      "cell_type": "code",
      "source": [
        "def sign(x):\n",
        "    if x > 0:\n",
        "        return 'Positive'\n",
        "    elif x < 0:\n",
        "        return 'Negative'\n",
        "    else:\n",
        "        return 'Zero'\n",
        "\n",
        "for x in [1, 0, -1]:\n",
        "    print(sign(x))\n"
      ],
      "metadata": {
        "colab": {
          "base_uri": "https://localhost:8080/"
        },
        "id": "sG0YF0Fj49y5",
        "outputId": "6e787d1d-8880-4599-9ed4-420b8626da57"
      },
      "execution_count": null,
      "outputs": [
        {
          "output_type": "stream",
          "name": "stdout",
          "text": [
            "Positive\n",
            "Zero\n",
            "Negative\n"
          ]
        }
      ]
    }
  ]
}
