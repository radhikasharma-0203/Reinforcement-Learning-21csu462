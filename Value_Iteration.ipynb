{
  "cells": [
    {
      "cell_type": "markdown",
      "metadata": {
        "id": "view-in-github",
        "colab_type": "text"
      },
      "source": [
        "<a href=\"https://colab.research.google.com/github/radhikasharma-0203/Reinforcement-Learning-21csu462/blob/main/Experiment_8_Value_Iteration.ipynb\" target=\"_parent\"><img src=\"https://colab.research.google.com/assets/colab-badge.svg\" alt=\"Open In Colab\"/></a>"
      ]
    },
    {
      "cell_type": "code",
      "execution_count": null,
      "id": "2441cf97",
      "metadata": {
        "id": "2441cf97",
        "outputId": "2982b7a9-6e3d-4ffe-ea9b-4c97f7afca91"
      },
      "outputs": [
        {
          "name": "stdout",
          "output_type": "stream",
          "text": [
            "Iteration 0 Policy:\n",
            "T\t2\t0\t2\t\n",
            "1\t0\t1\t0\t\n",
            "3\t0\t1\t1\t\n",
            "3\t2\t3\tT\t\n",
            "\n",
            "\n",
            "Iteration 1 Policy:\n",
            "T\t2\t2\t1\t\n",
            "0\t0\t0\t1\t\n",
            "0\t0\t1\t1\t\n",
            "0\t3\t3\tT\t\n",
            "Optimal Policy:\n",
            "T\t2\t2\t1\t\n",
            "0\t0\t0\t1\t\n",
            "0\t0\t1\t1\t\n",
            "0\t3\t3\tT\t\n"
          ]
        }
      ],
      "source": [
        "import numpy as np\n",
        "\n",
        "\n",
        "num_rows = 4\n",
        "num_cols = 4\n",
        "num_states = num_rows * num_cols\n",
        "num_actions = 4\n",
        "gamma = 0.9\n",
        "\n",
        "\n",
        "\n",
        "grid = {(i, j): [0, 1, 2, 3] for i in range(num_rows) for j in range(num_cols)}\n",
        "terminal_states = [(0, 0), (3, 3)]\n",
        "rewards = {(i, j): -1 for i in range(num_rows) for j in range(num_cols)}\n",
        "for state in terminal_states:\n",
        "    rewards[state] = 0\n",
        "\n",
        "\n",
        "policy = {state: np.random.choice(num_actions) for state in grid}\n",
        "\n",
        "\n",
        "def get_next_state(state, action, num_rows, num_cols):\n",
        "    i, j = state\n",
        "    if action == 0:  # Up\n",
        "        i = max(0, i - 1)\n",
        "    elif action == 1:  # Down\n",
        "        i = min(num_rows - 1, i + 1)\n",
        "    elif action == 2:  # Left\n",
        "        j = max(0, j - 1)\n",
        "    elif action == 3:  # Right\n",
        "        j = min(num_cols - 1, j + 1)\n",
        "    return (i, j)\n",
        "\n",
        "\n",
        "def value_iteration(num_states, num_actions, grid, rewards, gamma, epsilon=1e-6):\n",
        "    value_function = {state: 0 for state in grid}\n",
        "    while True:\n",
        "        delta = 0\n",
        "        for state in grid:\n",
        "            v = value_function[state]\n",
        "            action_values = np.zeros(num_actions)\n",
        "            for action in grid[state]:\n",
        "                next_state = get_next_state(state, action, num_rows, num_cols)\n",
        "                action_values[action] = rewards[state] + gamma * value_function[next_state]\n",
        "            value_function[state] = np.max(action_values)\n",
        "            delta = max(delta, abs(v - value_function[state]))\n",
        "        if delta < epsilon:\n",
        "            break\n",
        "    return value_function\n",
        "\n",
        "\n",
        "def policy_improvement(value_function, num_states, num_actions, grid, rewards, gamma):\n",
        "    new_policy = {state: 0 for state in grid}\n",
        "    policy_stable = True\n",
        "\n",
        "    for state in grid:\n",
        "        action_values = np.zeros(num_actions)\n",
        "\n",
        "        for action in grid[state]:\n",
        "            next_state = get_next_state(state, action, num_rows, num_cols)\n",
        "            action_values[action] = rewards[state] + gamma * value_function[next_state]\n",
        "\n",
        "        new_policy[state] = np.argmax(action_values)\n",
        "\n",
        "        if new_policy[state] != policy[state]:\n",
        "            policy_stable = False\n",
        "\n",
        "    return new_policy, policy_stable\n",
        "\n",
        "\n",
        "iteration = 0\n",
        "while True:\n",
        "    print(f\"Iteration {iteration} Policy:\")\n",
        "    for i in range(num_rows):\n",
        "        for j in range(num_cols):\n",
        "            state = (i, j)\n",
        "            action = policy[state]\n",
        "            if state in terminal_states:\n",
        "                print(\"T\", end=\"\\t\")\n",
        "            else:\n",
        "                print(action, end=\"\\t\")\n",
        "        print()\n",
        "\n",
        "    value_function = value_iteration(num_states, num_actions, grid, rewards, gamma)\n",
        "    new_policy, policy_stable = policy_improvement(value_function, num_states, num_actions, grid, rewards, gamma)\n",
        "    if policy_stable:\n",
        "        break\n",
        "    policy = new_policy\n",
        "    iteration += 1\n",
        "    print(\"\\n\")\n",
        "\n",
        "print(\"Optimal Policy:\")\n",
        "for i in range(num_rows):\n",
        "    for j in range(num_cols):\n",
        "        state = (i, j)\n",
        "        action = policy[state]\n",
        "        if state in terminal_states:\n",
        "            print(\"T\", end=\"\\t\")\n",
        "        else:\n",
        "            print(action, end=\"\\t\")\n",
        "    print()\n"
      ]
    },
    {
      "cell_type": "code",
      "execution_count": null,
      "id": "7bc60d0e",
      "metadata": {
        "id": "7bc60d0e"
      },
      "outputs": [],
      "source": []
    },
    {
      "cell_type": "code",
      "execution_count": null,
      "id": "1b9117d4",
      "metadata": {
        "id": "1b9117d4"
      },
      "outputs": [],
      "source": []
    }
  ],
  "metadata": {
    "kernelspec": {
      "display_name": "Python 3 (ipykernel)",
      "language": "python",
      "name": "python3"
    },
    "language_info": {
      "codemirror_mode": {
        "name": "ipython",
        "version": 3
      },
      "file_extension": ".py",
      "mimetype": "text/x-python",
      "name": "python",
      "nbconvert_exporter": "python",
      "pygments_lexer": "ipython3",
      "version": "3.9.12"
    },
    "colab": {
      "provenance": [],
      "include_colab_link": true
    }
  },
  "nbformat": 4,
  "nbformat_minor": 5
}
